{
 "cells": [
  {
   "cell_type": "code",
   "execution_count": 33,
   "metadata": {},
   "outputs": [],
   "source": [
    "from matplotlib import pyplot as plt\n",
    "import pandas as pd"
   ]
  },
  {
   "cell_type": "code",
   "execution_count": 34,
   "metadata": {},
   "outputs": [],
   "source": [
    "df = pd.read_csv(\"testing.csv\")"
   ]
  },
  {
   "cell_type": "code",
   "execution_count": 35,
   "metadata": {},
   "outputs": [
    {
     "data": {
      "text/html": [
       "<div>\n",
       "<style scoped>\n",
       "    .dataframe tbody tr th:only-of-type {\n",
       "        vertical-align: middle;\n",
       "    }\n",
       "\n",
       "    .dataframe tbody tr th {\n",
       "        vertical-align: top;\n",
       "    }\n",
       "\n",
       "    .dataframe thead th {\n",
       "        text-align: right;\n",
       "    }\n",
       "</style>\n",
       "<table border=\"1\" class=\"dataframe\">\n",
       "  <thead>\n",
       "    <tr style=\"text-align: right;\">\n",
       "      <th></th>\n",
       "      <th>Unnamed: 0</th>\n",
       "      <th>timestamp</th>\n",
       "      <th>message</th>\n",
       "      <th>template_id</th>\n",
       "    </tr>\n",
       "  </thead>\n",
       "  <tbody>\n",
       "    <tr>\n",
       "      <th>0</th>\n",
       "      <td>1</td>\n",
       "      <td>2018-08-25 14:00:25.715000+00:00</td>\n",
       "      <td>NAN0322AGG02 rpd[2079]: %DAEMON-3-BGP_CONNECT_...</td>\n",
       "      <td>172</td>\n",
       "    </tr>\n",
       "    <tr>\n",
       "      <th>1</th>\n",
       "      <td>2</td>\n",
       "      <td>2018-08-25 14:00:25.715000+00:00</td>\n",
       "      <td>NAN0322AGG02 rpd[2079]: %DAEMON-4: task_connec...</td>\n",
       "      <td>380</td>\n",
       "    </tr>\n",
       "    <tr>\n",
       "      <th>2</th>\n",
       "      <td>3</td>\n",
       "      <td>2018-08-25 14:00:46.424000+00:00</td>\n",
       "      <td>NAN0322AGG02 rpd[2079]: %DAEMON-3-BGP_CONNECT_...</td>\n",
       "      <td>172</td>\n",
       "    </tr>\n",
       "    <tr>\n",
       "      <th>3</th>\n",
       "      <td>4</td>\n",
       "      <td>2018-08-25 14:00:46.424000+00:00</td>\n",
       "      <td>NAN0322AGG02 rpd[2079]: %DAEMON-4: task_connec...</td>\n",
       "      <td>380</td>\n",
       "    </tr>\n",
       "    <tr>\n",
       "      <th>4</th>\n",
       "      <td>5</td>\n",
       "      <td>2018-08-25 14:01:41.792000+00:00</td>\n",
       "      <td>NAN0322AGG02 rpd[2079]: %DAEMON-3-BGP_CONNECT_...</td>\n",
       "      <td>172</td>\n",
       "    </tr>\n",
       "  </tbody>\n",
       "</table>\n",
       "</div>"
      ],
      "text/plain": [
       "   Unnamed: 0                         timestamp  \\\n",
       "0           1  2018-08-25 14:00:25.715000+00:00   \n",
       "1           2  2018-08-25 14:00:25.715000+00:00   \n",
       "2           3  2018-08-25 14:00:46.424000+00:00   \n",
       "3           4  2018-08-25 14:00:46.424000+00:00   \n",
       "4           5  2018-08-25 14:01:41.792000+00:00   \n",
       "\n",
       "                                             message template_id  \n",
       "0  NAN0322AGG02 rpd[2079]: %DAEMON-3-BGP_CONNECT_...         172  \n",
       "1  NAN0322AGG02 rpd[2079]: %DAEMON-4: task_connec...         380  \n",
       "2  NAN0322AGG02 rpd[2079]: %DAEMON-3-BGP_CONNECT_...         172  \n",
       "3  NAN0322AGG02 rpd[2079]: %DAEMON-4: task_connec...         380  \n",
       "4  NAN0322AGG02 rpd[2079]: %DAEMON-3-BGP_CONNECT_...         172  "
      ]
     },
     "execution_count": 35,
     "metadata": {},
     "output_type": "execute_result"
    }
   ],
   "source": [
    "df.head()"
   ]
  },
  {
   "cell_type": "code",
   "execution_count": 37,
   "metadata": {},
   "outputs": [
    {
     "name": "stderr",
     "output_type": "stream",
     "text": [
      "/home/kien/anaconda3/lib/python3.9/site-packages/pandas/core/arrays/datetimes.py:1143: UserWarning: Converting to PeriodArray/Index representation will drop timezone information.\n",
      "  warnings.warn(\n"
     ]
    }
   ],
   "source": [
    "df['timestamp'] = pd.to_datetime(df['timestamp'])\n",
    "\n",
    "# Extract date and hour from timestamp\n",
    "df['date_hour'] = df['timestamp'].dt.to_period('H')\n",
    "\n",
    "# Get the top 5 template_id with the most occurrences\n",
    "top5_template_id = df['template_id'].value_counts().nlargest(5).index\n",
    "\n",
    "# Filter the DataFrame to include only the top 5 template_id\n",
    "df_top5 = df[df['template_id'].isin(top5_template_id)]\n",
    "\n",
    "# Group by date_hour and template_id, count occurrences\n",
    "top5_per_date_hour = df_top5.groupby(['date_hour', 'template_id']).size().reset_index(name='count')\n"
   ]
  },
  {
   "cell_type": "code",
   "execution_count": 39,
   "metadata": {},
   "outputs": [],
   "source": [
    "top5_per_date_hour['date_hour'] = top5_per_date_hour['date_hour'].dt.to_timestamp()"
   ]
  }
 ],
 "metadata": {
  "kernelspec": {
   "display_name": "base",
   "language": "python",
   "name": "python3"
  },
  "language_info": {
   "codemirror_mode": {
    "name": "ipython",
    "version": 3
   },
   "file_extension": ".py",
   "mimetype": "text/x-python",
   "name": "python",
   "nbconvert_exporter": "python",
   "pygments_lexer": "ipython3",
   "version": "3.9.7"
  }
 },
 "nbformat": 4,
 "nbformat_minor": 2
}
